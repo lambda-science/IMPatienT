{
 "cells": [
  {
   "cell_type": "code",
   "execution_count": 1,
   "metadata": {},
   "outputs": [],
   "source": [
    "# Set the ontology fields and make sure every nodes has the field\n",
    "import json\n",
    "import random\n",
    "\n",
    "r = lambda: random.randint(0, 255)\n",
    "\n",
    "with open(\"../data/ontology/ontology.json\", \"r\") as fp:\n",
    "    onto = json.load(fp)\n",
    "\n",
    "for i in onto:\n",
    "    i[\"data\"][\"alternative_language\"] = i[\"data\"].get(\"alternative_language\", \"\")\n",
    "    i[\"data\"][\"synonymes\"] = i[\"data\"].get(\"synonymes\", \"\")\n",
    "    i[\"data\"][\"hpo_datamined\"] = i[\"data\"].get(\"hpo_datamined\", \"\")\n",
    "    i[\"data\"][\"gene_datamined\"] = i[\"data\"].get(\"gene_datamined\", \"\")\n",
    "    i[\"data\"][\"phenotype_datamined\"] = i[\"data\"].get(\"phenotype_datamined\", \"\")\n",
    "    i[\"data\"][\"correlates_with\"] = i[\"data\"].get(\"correlates_with\", \"\")\n",
    "    i[\"data\"][\"image_annotation\"] = i[\"data\"].get(\"image_annotation\", False)\n",
    "    i[\"data\"][\"description\"] = i[\"data\"].get(\"description\", \"\")\n",
    "    i[\"data\"][\"hex_color\"] = i[\"data\"].get(\n",
    "        \"hex_color\", \"#%02X%02X%02X\" % (r(), r(), r())\n",
    "    )\n",
    "\n",
    "with open(\"../data/ontology/ontology.json\", \"w\") as fp:\n",
    "    onto = json.dump(onto, fp, indent=4)"
   ]
  },
  {
   "cell_type": "code",
   "execution_count": null,
   "metadata": {},
   "outputs": [],
   "source": [
    "# Rename all nodes with a specific ID Pattern (MHO:000001 here)\n",
    "# Do it also for all reports\n",
    "import sys\n",
    "\n",
    "sys.path.append(\"..\")\n",
    "import json\n",
    "\n",
    "from impatient.app import create_app, db\n",
    "from impatient.app import ReportHisto\n",
    "from sqlalchemy.orm.attributes import flag_modified\n",
    "\n",
    "# Create instance of app\n",
    "app = create_app()\n",
    "with app.app_context():\n",
    "    my_records = ReportHisto.query.all()\n",
    "    for i in my_records:\n",
    "        ID = 0\n",
    "        for term in i.ontology_tree:\n",
    "            ID += 1\n",
    "            old_ID = term[\"id\"]\n",
    "            new_ID = \"MHO:\" + str(ID).rjust(6, \"0\")\n",
    "            term[\"id\"] = new_ID\n",
    "            for term2 in i.ontology_tree:\n",
    "                if term2[\"parent\"] == old_ID:\n",
    "                    term2[\"parent\"] = new_ID\n",
    "        flag_modified(i, \"ontology_tree\")\n",
    "    db.session.commit()"
   ]
  },
  {
   "cell_type": "code",
   "execution_count": null,
   "metadata": {},
   "outputs": [],
   "source": [
    "# Switch node Text title to the \"alternative lang\" data section and replace Text by the english traduction from DeepL\n",
    "import json\n",
    "\n",
    "import deepl\n",
    "\n",
    "translator = deepl.Translator(\"xxx-xxx-xxx-xxx-xxx:xx\")\n",
    "\n",
    "with open(\"../data/ontology/ontology.json\", \"r\") as fp:\n",
    "    onto = json.load(fp)"
   ]
  },
  {
   "cell_type": "code",
   "execution_count": 9,
   "metadata": {},
   "outputs": [],
   "source": [
    "# Translate Negex EN To FR\n",
    "import json\n",
    "\n",
    "import deepl\n",
    "\n",
    "translator = deepl.Translator(\"xxxxxxxxxxxx:fx\")\n",
    "\n",
    "list_terms = []\n",
    "with open(\"../src/impatient/config/negex_en.txt\", \"r\") as fp:\n",
    "    for lines in fp.readlines():\n",
    "        list_terms.append(lines.strip(\"\\n\"))\n",
    "\n",
    "list_terms_fr = []\n",
    "for term in list_terms:\n",
    "    result = translator.translate_text(term, source_lang=\"en\", target_lang=\"FR\")\n",
    "    list_terms_fr.append(result.text)"
   ]
  },
  {
   "cell_type": "code",
   "execution_count": 11,
   "metadata": {},
   "outputs": [],
   "source": [
    "textfile = open(\"../src/impatient/config/negex_fr.txt\", \"w\")\n",
    "for element in list_terms_fr:\n",
    "    textfile.write(element + \"\\n\")\n",
    "textfile.close()"
   ]
  }
 ],
 "metadata": {
  "interpreter": {
   "hash": "fbe59dc6b0d705a78b7a6cc59b27ec5ab837264310358084be3cda76abd6d3cf"
  },
  "kernelspec": {
   "display_name": "Python 3.9.7 64-bit ('.venv': venv)",
   "name": "python3"
  },
  "language_info": {
   "codemirror_mode": {
    "name": "ipython",
    "version": 3
   },
   "file_extension": ".py",
   "mimetype": "text/x-python",
   "name": "python",
   "nbconvert_exporter": "python",
   "pygments_lexer": "ipython3",
   "version": "3.9.5"
  },
  "orig_nbformat": 4
 },
 "nbformat": 4,
 "nbformat_minor": 2
}
